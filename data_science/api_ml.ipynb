{
 "cells": [
  {
   "cell_type": "code",
   "execution_count": 3,
   "metadata": {},
   "outputs": [],
   "source": [
    "import pandas as pd\n",
    "import matplotlib.pyplot as plt\n",
    "import seaborn as sns\n",
    "from scipy.stats import zscore"
   ]
  },
  {
   "cell_type": "code",
   "execution_count": 4,
   "metadata": {},
   "outputs": [
    {
     "data": {
      "text/html": [
       "<div>\n",
       "<style scoped>\n",
       "    .dataframe tbody tr th:only-of-type {\n",
       "        vertical-align: middle;\n",
       "    }\n",
       "\n",
       "    .dataframe tbody tr th {\n",
       "        vertical-align: top;\n",
       "    }\n",
       "\n",
       "    .dataframe thead th {\n",
       "        text-align: right;\n",
       "    }\n",
       "</style>\n",
       "<table border=\"1\" class=\"dataframe\">\n",
       "  <thead>\n",
       "    <tr style=\"text-align: right;\">\n",
       "      <th></th>\n",
       "      <th>DATE</th>\n",
       "      <th>APPNAME</th>\n",
       "      <th>API</th>\n",
       "      <th>STATUS</th>\n",
       "      <th>COUNT</th>\n",
       "    </tr>\n",
       "  </thead>\n",
       "  <tbody>\n",
       "    <tr>\n",
       "      <th>0</th>\n",
       "      <td>2023-07-04</td>\n",
       "      <td>App1</td>\n",
       "      <td>API18</td>\n",
       "      <td>F</td>\n",
       "      <td>8</td>\n",
       "    </tr>\n",
       "    <tr>\n",
       "      <th>1</th>\n",
       "      <td>2023-07-04</td>\n",
       "      <td>App1</td>\n",
       "      <td>API19</td>\n",
       "      <td>S</td>\n",
       "      <td>680</td>\n",
       "    </tr>\n",
       "    <tr>\n",
       "      <th>2</th>\n",
       "      <td>2023-07-04</td>\n",
       "      <td>App1</td>\n",
       "      <td>API19</td>\n",
       "      <td>F</td>\n",
       "      <td>87</td>\n",
       "    </tr>\n",
       "    <tr>\n",
       "      <th>3</th>\n",
       "      <td>2023-07-04</td>\n",
       "      <td>App10</td>\n",
       "      <td>API24</td>\n",
       "      <td>F</td>\n",
       "      <td>12</td>\n",
       "    </tr>\n",
       "    <tr>\n",
       "      <th>4</th>\n",
       "      <td>2023-07-04</td>\n",
       "      <td>App100</td>\n",
       "      <td>API17</td>\n",
       "      <td>S</td>\n",
       "      <td>3398</td>\n",
       "    </tr>\n",
       "  </tbody>\n",
       "</table>\n",
       "</div>"
      ],
      "text/plain": [
       "        DATE APPNAME    API STATUS  COUNT\n",
       "0 2023-07-04    App1  API18      F      8\n",
       "1 2023-07-04    App1  API19      S    680\n",
       "2 2023-07-04    App1  API19      F     87\n",
       "3 2023-07-04   App10  API24      F     12\n",
       "4 2023-07-04  App100  API17      S   3398"
      ]
     },
     "execution_count": 4,
     "metadata": {},
     "output_type": "execute_result"
    }
   ],
   "source": [
    "user_cols = ['date', 'appname', 'API', 'status', 'counts']\n",
    "data = pd.read_csv('API_Trend.csv')\n",
    "data['DATE'] = pd.to_datetime(data['DATE'], format='%d-%m-%y')\n",
    "#data = pd.read_csv('API_Trend.csv',names=user_cols, header=0)\n",
    "data.head()"
   ]
  },
  {
   "cell_type": "code",
   "execution_count": 5,
   "metadata": {},
   "outputs": [
    {
     "data": {
      "text/plain": [
       "0          App1\n",
       "1          App1\n",
       "2          App1\n",
       "3         App10\n",
       "4        App100\n",
       "          ...  \n",
       "39160     App98\n",
       "39161     App99\n",
       "39162     App99\n",
       "39163     App99\n",
       "39164     App99\n",
       "Name: APPNAME, Length: 39165, dtype: object"
      ]
     },
     "execution_count": 5,
     "metadata": {},
     "output_type": "execute_result"
    }
   ],
   "source": [
    "#if column name is a keyword or has space we use this method otherwise, use dot notation\n",
    "data['APPNAME']"
   ]
  },
  {
   "cell_type": "code",
   "execution_count": 6,
   "metadata": {},
   "outputs": [
    {
     "data": {
      "text/plain": [
       "0        API18\n",
       "1        API19\n",
       "2        API19\n",
       "3        API24\n",
       "4        API17\n",
       "         ...  \n",
       "39160     API7\n",
       "39161    API15\n",
       "39162    API15\n",
       "39163     API7\n",
       "39164     API7\n",
       "Name: API, Length: 39165, dtype: object"
      ]
     },
     "execution_count": 6,
     "metadata": {},
     "output_type": "execute_result"
    }
   ],
   "source": [
    "#dot notation\n",
    "data.API"
   ]
  },
  {
   "cell_type": "code",
   "execution_count": 7,
   "metadata": {},
   "outputs": [
    {
     "data": {
      "text/html": [
       "<div>\n",
       "<style scoped>\n",
       "    .dataframe tbody tr th:only-of-type {\n",
       "        vertical-align: middle;\n",
       "    }\n",
       "\n",
       "    .dataframe tbody tr th {\n",
       "        vertical-align: top;\n",
       "    }\n",
       "\n",
       "    .dataframe thead th {\n",
       "        text-align: right;\n",
       "    }\n",
       "</style>\n",
       "<table border=\"1\" class=\"dataframe\">\n",
       "  <thead>\n",
       "    <tr style=\"text-align: right;\">\n",
       "      <th></th>\n",
       "      <th>DATE</th>\n",
       "      <th>APPNAME</th>\n",
       "      <th>API</th>\n",
       "      <th>STATUS</th>\n",
       "      <th>COUNT</th>\n",
       "      <th>obid</th>\n",
       "    </tr>\n",
       "  </thead>\n",
       "  <tbody>\n",
       "    <tr>\n",
       "      <th>0</th>\n",
       "      <td>2023-07-04</td>\n",
       "      <td>App1</td>\n",
       "      <td>API18</td>\n",
       "      <td>F</td>\n",
       "      <td>8</td>\n",
       "      <td>App1-API18</td>\n",
       "    </tr>\n",
       "    <tr>\n",
       "      <th>1</th>\n",
       "      <td>2023-07-04</td>\n",
       "      <td>App1</td>\n",
       "      <td>API19</td>\n",
       "      <td>S</td>\n",
       "      <td>680</td>\n",
       "      <td>App1-API19</td>\n",
       "    </tr>\n",
       "    <tr>\n",
       "      <th>2</th>\n",
       "      <td>2023-07-04</td>\n",
       "      <td>App1</td>\n",
       "      <td>API19</td>\n",
       "      <td>F</td>\n",
       "      <td>87</td>\n",
       "      <td>App1-API19</td>\n",
       "    </tr>\n",
       "    <tr>\n",
       "      <th>3</th>\n",
       "      <td>2023-07-04</td>\n",
       "      <td>App10</td>\n",
       "      <td>API24</td>\n",
       "      <td>F</td>\n",
       "      <td>12</td>\n",
       "      <td>App10-API24</td>\n",
       "    </tr>\n",
       "    <tr>\n",
       "      <th>4</th>\n",
       "      <td>2023-07-04</td>\n",
       "      <td>App100</td>\n",
       "      <td>API17</td>\n",
       "      <td>S</td>\n",
       "      <td>3398</td>\n",
       "      <td>App100-API17</td>\n",
       "    </tr>\n",
       "  </tbody>\n",
       "</table>\n",
       "</div>"
      ],
      "text/plain": [
       "        DATE APPNAME    API STATUS  COUNT          obid\n",
       "0 2023-07-04    App1  API18      F      8    App1-API18\n",
       "1 2023-07-04    App1  API19      S    680    App1-API19\n",
       "2 2023-07-04    App1  API19      F     87    App1-API19\n",
       "3 2023-07-04   App10  API24      F     12   App10-API24\n",
       "4 2023-07-04  App100  API17      S   3398  App100-API17"
      ]
     },
     "execution_count": 7,
     "metadata": {},
     "output_type": "execute_result"
    }
   ],
   "source": [
    "data['obid'] = data['APPNAME'] + '-' + data['API']\n",
    "data.head()"
   ]
  },
  {
   "cell_type": "code",
   "execution_count": 8,
   "metadata": {},
   "outputs": [
    {
     "name": "stdout",
     "output_type": "stream",
     "text": [
      "                                DATE         COUNT\n",
      "count                          39165  3.916500e+04\n",
      "mean   2023-08-11 07:32:01.194944512  1.921052e+05\n",
      "min              2023-07-04 00:00:00  1.000000e+00\n",
      "25%              2023-07-23 00:00:00  1.500000e+01\n",
      "50%              2023-08-11 00:00:00  4.390000e+02\n",
      "75%              2023-08-31 00:00:00  1.307800e+04\n",
      "max              2023-09-19 00:00:00  1.458307e+07\n",
      "std                              NaN  9.393292e+05\n",
      "(39165, 6)\n"
     ]
    }
   ],
   "source": [
    "print(data.describe())\n",
    "print(data.shape)\n",
    "#data.columns = data.columns.str.replace(' ', '_')"
   ]
  },
  {
   "cell_type": "code",
   "execution_count": 9,
   "metadata": {},
   "outputs": [],
   "source": [
    "# remove column from table\n",
    "data.drop('obid', axis=1, inplace=True)\n",
    "#axis = 0 (which is defalut) for remove row and index id is the name of the index\n",
    "#for multiple columns use list i.e  replace 'obid' with ['obid', 'API']"
   ]
  },
  {
   "cell_type": "code",
   "execution_count": 10,
   "metadata": {},
   "outputs": [
    {
     "data": {
      "text/plain": [
       "0         App1\n",
       "20725     App1\n",
       "9678      App1\n",
       "14719     App1\n",
       "14718     App1\n",
       "         ...  \n",
       "9166     App99\n",
       "8648     App99\n",
       "8647     App99\n",
       "34699    App99\n",
       "39164    App99\n",
       "Name: APPNAME, Length: 39165, dtype: object"
      ]
     },
     "execution_count": 10,
     "metadata": {},
     "output_type": "execute_result"
    }
   ],
   "source": [
    "data.APPNAME.sort_values()"
   ]
  },
  {
   "cell_type": "code",
   "execution_count": 11,
   "metadata": {},
   "outputs": [
    {
     "data": {
      "text/html": [
       "<div>\n",
       "<style scoped>\n",
       "    .dataframe tbody tr th:only-of-type {\n",
       "        vertical-align: middle;\n",
       "    }\n",
       "\n",
       "    .dataframe tbody tr th {\n",
       "        vertical-align: top;\n",
       "    }\n",
       "\n",
       "    .dataframe thead th {\n",
       "        text-align: right;\n",
       "    }\n",
       "</style>\n",
       "<table border=\"1\" class=\"dataframe\">\n",
       "  <thead>\n",
       "    <tr style=\"text-align: right;\">\n",
       "      <th></th>\n",
       "      <th>DATE</th>\n",
       "      <th>APPNAME</th>\n",
       "      <th>API</th>\n",
       "      <th>STATUS</th>\n",
       "      <th>COUNT</th>\n",
       "    </tr>\n",
       "  </thead>\n",
       "  <tbody>\n",
       "    <tr>\n",
       "      <th>0</th>\n",
       "      <td>2023-07-04</td>\n",
       "      <td>App1</td>\n",
       "      <td>API18</td>\n",
       "      <td>F</td>\n",
       "      <td>8</td>\n",
       "    </tr>\n",
       "    <tr>\n",
       "      <th>515</th>\n",
       "      <td>2023-07-05</td>\n",
       "      <td>App1</td>\n",
       "      <td>API18</td>\n",
       "      <td>F</td>\n",
       "      <td>9</td>\n",
       "    </tr>\n",
       "    <tr>\n",
       "      <th>1031</th>\n",
       "      <td>2023-07-06</td>\n",
       "      <td>App1</td>\n",
       "      <td>API18</td>\n",
       "      <td>F</td>\n",
       "      <td>5</td>\n",
       "    </tr>\n",
       "    <tr>\n",
       "      <th>1535</th>\n",
       "      <td>2023-07-07</td>\n",
       "      <td>App1</td>\n",
       "      <td>API18</td>\n",
       "      <td>F</td>\n",
       "      <td>18</td>\n",
       "    </tr>\n",
       "    <tr>\n",
       "      <th>2041</th>\n",
       "      <td>2023-07-08</td>\n",
       "      <td>App1</td>\n",
       "      <td>API18</td>\n",
       "      <td>F</td>\n",
       "      <td>17</td>\n",
       "    </tr>\n",
       "    <tr>\n",
       "      <th>...</th>\n",
       "      <td>...</td>\n",
       "      <td>...</td>\n",
       "      <td>...</td>\n",
       "      <td>...</td>\n",
       "      <td>...</td>\n",
       "    </tr>\n",
       "    <tr>\n",
       "      <th>38175</th>\n",
       "      <td>2023-09-17</td>\n",
       "      <td>App99</td>\n",
       "      <td>API7</td>\n",
       "      <td>F</td>\n",
       "      <td>5</td>\n",
       "    </tr>\n",
       "    <tr>\n",
       "      <th>38667</th>\n",
       "      <td>2023-09-18</td>\n",
       "      <td>App99</td>\n",
       "      <td>API7</td>\n",
       "      <td>S</td>\n",
       "      <td>1466844</td>\n",
       "    </tr>\n",
       "    <tr>\n",
       "      <th>38668</th>\n",
       "      <td>2023-09-18</td>\n",
       "      <td>App99</td>\n",
       "      <td>API7</td>\n",
       "      <td>F</td>\n",
       "      <td>12</td>\n",
       "    </tr>\n",
       "    <tr>\n",
       "      <th>39163</th>\n",
       "      <td>2023-09-19</td>\n",
       "      <td>App99</td>\n",
       "      <td>API7</td>\n",
       "      <td>S</td>\n",
       "      <td>1435970</td>\n",
       "    </tr>\n",
       "    <tr>\n",
       "      <th>39164</th>\n",
       "      <td>2023-09-19</td>\n",
       "      <td>App99</td>\n",
       "      <td>API7</td>\n",
       "      <td>F</td>\n",
       "      <td>7</td>\n",
       "    </tr>\n",
       "  </tbody>\n",
       "</table>\n",
       "<p>39165 rows × 5 columns</p>\n",
       "</div>"
      ],
      "text/plain": [
       "            DATE APPNAME    API STATUS    COUNT\n",
       "0     2023-07-04    App1  API18      F        8\n",
       "515   2023-07-05    App1  API18      F        9\n",
       "1031  2023-07-06    App1  API18      F        5\n",
       "1535  2023-07-07    App1  API18      F       18\n",
       "2041  2023-07-08    App1  API18      F       17\n",
       "...          ...     ...    ...    ...      ...\n",
       "38175 2023-09-17   App99   API7      F        5\n",
       "38667 2023-09-18   App99   API7      S  1466844\n",
       "38668 2023-09-18   App99   API7      F       12\n",
       "39163 2023-09-19   App99   API7      S  1435970\n",
       "39164 2023-09-19   App99   API7      F        7\n",
       "\n",
       "[39165 rows x 5 columns]"
      ]
     },
     "execution_count": 11,
     "metadata": {},
     "output_type": "execute_result"
    }
   ],
   "source": [
    "data.sort_values(['APPNAME','API'])"
   ]
  },
  {
   "cell_type": "code",
   "execution_count": 12,
   "metadata": {},
   "outputs": [
    {
     "data": {
      "text/html": [
       "<div>\n",
       "<style scoped>\n",
       "    .dataframe tbody tr th:only-of-type {\n",
       "        vertical-align: middle;\n",
       "    }\n",
       "\n",
       "    .dataframe tbody tr th {\n",
       "        vertical-align: top;\n",
       "    }\n",
       "\n",
       "    .dataframe thead th {\n",
       "        text-align: right;\n",
       "    }\n",
       "</style>\n",
       "<table border=\"1\" class=\"dataframe\">\n",
       "  <thead>\n",
       "    <tr style=\"text-align: right;\">\n",
       "      <th></th>\n",
       "      <th>DATE</th>\n",
       "      <th>APPNAME</th>\n",
       "      <th>API</th>\n",
       "      <th>STATUS</th>\n",
       "      <th>COUNT</th>\n",
       "    </tr>\n",
       "  </thead>\n",
       "  <tbody>\n",
       "    <tr>\n",
       "      <th>30</th>\n",
       "      <td>2023-07-04</td>\n",
       "      <td>App106</td>\n",
       "      <td>API15</td>\n",
       "      <td>S</td>\n",
       "      <td>4292769</td>\n",
       "    </tr>\n",
       "    <tr>\n",
       "      <th>43</th>\n",
       "      <td>2023-07-04</td>\n",
       "      <td>App108</td>\n",
       "      <td>API17</td>\n",
       "      <td>S</td>\n",
       "      <td>2072083</td>\n",
       "    </tr>\n",
       "    <tr>\n",
       "      <th>90</th>\n",
       "      <td>2023-07-04</td>\n",
       "      <td>App2</td>\n",
       "      <td>API12</td>\n",
       "      <td>S</td>\n",
       "      <td>12594166</td>\n",
       "    </tr>\n",
       "    <tr>\n",
       "      <th>95</th>\n",
       "      <td>2023-07-04</td>\n",
       "      <td>App2</td>\n",
       "      <td>API17</td>\n",
       "      <td>S</td>\n",
       "      <td>1599232</td>\n",
       "    </tr>\n",
       "    <tr>\n",
       "      <th>97</th>\n",
       "      <td>2023-07-04</td>\n",
       "      <td>App2</td>\n",
       "      <td>API18</td>\n",
       "      <td>S</td>\n",
       "      <td>1355822</td>\n",
       "    </tr>\n",
       "    <tr>\n",
       "      <th>...</th>\n",
       "      <td>...</td>\n",
       "      <td>...</td>\n",
       "      <td>...</td>\n",
       "      <td>...</td>\n",
       "      <td>...</td>\n",
       "    </tr>\n",
       "    <tr>\n",
       "      <th>39022</th>\n",
       "      <td>2023-09-19</td>\n",
       "      <td>App69</td>\n",
       "      <td>API10</td>\n",
       "      <td>F</td>\n",
       "      <td>5116610</td>\n",
       "    </tr>\n",
       "    <tr>\n",
       "      <th>39151</th>\n",
       "      <td>2023-09-19</td>\n",
       "      <td>App98</td>\n",
       "      <td>API15</td>\n",
       "      <td>S</td>\n",
       "      <td>2445754</td>\n",
       "    </tr>\n",
       "    <tr>\n",
       "      <th>39159</th>\n",
       "      <td>2023-09-19</td>\n",
       "      <td>App98</td>\n",
       "      <td>API7</td>\n",
       "      <td>S</td>\n",
       "      <td>4977347</td>\n",
       "    </tr>\n",
       "    <tr>\n",
       "      <th>39161</th>\n",
       "      <td>2023-09-19</td>\n",
       "      <td>App99</td>\n",
       "      <td>API15</td>\n",
       "      <td>S</td>\n",
       "      <td>1449992</td>\n",
       "    </tr>\n",
       "    <tr>\n",
       "      <th>39163</th>\n",
       "      <td>2023-09-19</td>\n",
       "      <td>App99</td>\n",
       "      <td>API7</td>\n",
       "      <td>S</td>\n",
       "      <td>1435970</td>\n",
       "    </tr>\n",
       "  </tbody>\n",
       "</table>\n",
       "<p>1649 rows × 5 columns</p>\n",
       "</div>"
      ],
      "text/plain": [
       "            DATE APPNAME    API STATUS     COUNT\n",
       "30    2023-07-04  App106  API15      S   4292769\n",
       "43    2023-07-04  App108  API17      S   2072083\n",
       "90    2023-07-04    App2  API12      S  12594166\n",
       "95    2023-07-04    App2  API17      S   1599232\n",
       "97    2023-07-04    App2  API18      S   1355822\n",
       "...          ...     ...    ...    ...       ...\n",
       "39022 2023-09-19   App69  API10      F   5116610\n",
       "39151 2023-09-19   App98  API15      S   2445754\n",
       "39159 2023-09-19   App98   API7      S   4977347\n",
       "39161 2023-09-19   App99  API15      S   1449992\n",
       "39163 2023-09-19   App99   API7      S   1435970\n",
       "\n",
       "[1649 rows x 5 columns]"
      ]
     },
     "execution_count": 12,
     "metadata": {},
     "output_type": "execute_result"
    }
   ],
   "source": [
    "booleans = []\n",
    "for length in data.COUNT:\n",
    "    if length >= 1000000:\n",
    "        booleans.append(True)\n",
    "    else:\n",
    "        booleans.append(False)\n",
    "\n",
    "is_higher = pd.Series(booleans)\n",
    "\n",
    "#it is use to filterthe data according to condition and return the data\n",
    "data[is_higher]"
   ]
  },
  {
   "cell_type": "code",
   "execution_count": 13,
   "metadata": {},
   "outputs": [
    {
     "data": {
      "text/html": [
       "<div>\n",
       "<style scoped>\n",
       "    .dataframe tbody tr th:only-of-type {\n",
       "        vertical-align: middle;\n",
       "    }\n",
       "\n",
       "    .dataframe tbody tr th {\n",
       "        vertical-align: top;\n",
       "    }\n",
       "\n",
       "    .dataframe thead th {\n",
       "        text-align: right;\n",
       "    }\n",
       "</style>\n",
       "<table border=\"1\" class=\"dataframe\">\n",
       "  <thead>\n",
       "    <tr style=\"text-align: right;\">\n",
       "      <th></th>\n",
       "      <th>DATE</th>\n",
       "      <th>APPNAME</th>\n",
       "      <th>API</th>\n",
       "      <th>STATUS</th>\n",
       "      <th>COUNT</th>\n",
       "    </tr>\n",
       "  </thead>\n",
       "  <tbody>\n",
       "    <tr>\n",
       "      <th>30</th>\n",
       "      <td>2023-07-04</td>\n",
       "      <td>App106</td>\n",
       "      <td>API15</td>\n",
       "      <td>S</td>\n",
       "      <td>4292769</td>\n",
       "    </tr>\n",
       "    <tr>\n",
       "      <th>43</th>\n",
       "      <td>2023-07-04</td>\n",
       "      <td>App108</td>\n",
       "      <td>API17</td>\n",
       "      <td>S</td>\n",
       "      <td>2072083</td>\n",
       "    </tr>\n",
       "    <tr>\n",
       "      <th>90</th>\n",
       "      <td>2023-07-04</td>\n",
       "      <td>App2</td>\n",
       "      <td>API12</td>\n",
       "      <td>S</td>\n",
       "      <td>12594166</td>\n",
       "    </tr>\n",
       "    <tr>\n",
       "      <th>95</th>\n",
       "      <td>2023-07-04</td>\n",
       "      <td>App2</td>\n",
       "      <td>API17</td>\n",
       "      <td>S</td>\n",
       "      <td>1599232</td>\n",
       "    </tr>\n",
       "    <tr>\n",
       "      <th>97</th>\n",
       "      <td>2023-07-04</td>\n",
       "      <td>App2</td>\n",
       "      <td>API18</td>\n",
       "      <td>S</td>\n",
       "      <td>1355822</td>\n",
       "    </tr>\n",
       "    <tr>\n",
       "      <th>...</th>\n",
       "      <td>...</td>\n",
       "      <td>...</td>\n",
       "      <td>...</td>\n",
       "      <td>...</td>\n",
       "      <td>...</td>\n",
       "    </tr>\n",
       "    <tr>\n",
       "      <th>39022</th>\n",
       "      <td>2023-09-19</td>\n",
       "      <td>App69</td>\n",
       "      <td>API10</td>\n",
       "      <td>F</td>\n",
       "      <td>5116610</td>\n",
       "    </tr>\n",
       "    <tr>\n",
       "      <th>39151</th>\n",
       "      <td>2023-09-19</td>\n",
       "      <td>App98</td>\n",
       "      <td>API15</td>\n",
       "      <td>S</td>\n",
       "      <td>2445754</td>\n",
       "    </tr>\n",
       "    <tr>\n",
       "      <th>39159</th>\n",
       "      <td>2023-09-19</td>\n",
       "      <td>App98</td>\n",
       "      <td>API7</td>\n",
       "      <td>S</td>\n",
       "      <td>4977347</td>\n",
       "    </tr>\n",
       "    <tr>\n",
       "      <th>39161</th>\n",
       "      <td>2023-09-19</td>\n",
       "      <td>App99</td>\n",
       "      <td>API15</td>\n",
       "      <td>S</td>\n",
       "      <td>1449992</td>\n",
       "    </tr>\n",
       "    <tr>\n",
       "      <th>39163</th>\n",
       "      <td>2023-09-19</td>\n",
       "      <td>App99</td>\n",
       "      <td>API7</td>\n",
       "      <td>S</td>\n",
       "      <td>1435970</td>\n",
       "    </tr>\n",
       "  </tbody>\n",
       "</table>\n",
       "<p>1649 rows × 5 columns</p>\n",
       "</div>"
      ],
      "text/plain": [
       "            DATE APPNAME    API STATUS     COUNT\n",
       "30    2023-07-04  App106  API15      S   4292769\n",
       "43    2023-07-04  App108  API17      S   2072083\n",
       "90    2023-07-04    App2  API12      S  12594166\n",
       "95    2023-07-04    App2  API17      S   1599232\n",
       "97    2023-07-04    App2  API18      S   1355822\n",
       "...          ...     ...    ...    ...       ...\n",
       "39022 2023-09-19   App69  API10      F   5116610\n",
       "39151 2023-09-19   App98  API15      S   2445754\n",
       "39159 2023-09-19   App98   API7      S   4977347\n",
       "39161 2023-09-19   App99  API15      S   1449992\n",
       "39163 2023-09-19   App99   API7      S   1435970\n",
       "\n",
       "[1649 rows x 5 columns]"
      ]
     },
     "execution_count": 13,
     "metadata": {},
     "output_type": "execute_result"
    }
   ],
   "source": [
    "is_higher = data.COUNT >= 1000000\n",
    "is_higher.head()\n",
    "data[is_higher]"
   ]
  },
  {
   "cell_type": "code",
   "execution_count": 14,
   "metadata": {},
   "outputs": [
    {
     "data": {
      "text/html": [
       "<div>\n",
       "<style scoped>\n",
       "    .dataframe tbody tr th:only-of-type {\n",
       "        vertical-align: middle;\n",
       "    }\n",
       "\n",
       "    .dataframe tbody tr th {\n",
       "        vertical-align: top;\n",
       "    }\n",
       "\n",
       "    .dataframe thead th {\n",
       "        text-align: right;\n",
       "    }\n",
       "</style>\n",
       "<table border=\"1\" class=\"dataframe\">\n",
       "  <thead>\n",
       "    <tr style=\"text-align: right;\">\n",
       "      <th></th>\n",
       "      <th>API</th>\n",
       "      <th>COUNT</th>\n",
       "    </tr>\n",
       "  </thead>\n",
       "  <tbody>\n",
       "    <tr>\n",
       "      <th>90</th>\n",
       "      <td>API12</td>\n",
       "      <td>12594166</td>\n",
       "    </tr>\n",
       "    <tr>\n",
       "      <th>91</th>\n",
       "      <td>API12</td>\n",
       "      <td>482142</td>\n",
       "    </tr>\n",
       "    <tr>\n",
       "      <th>92</th>\n",
       "      <td>API12</td>\n",
       "      <td>4</td>\n",
       "    </tr>\n",
       "    <tr>\n",
       "      <th>93</th>\n",
       "      <td>API15</td>\n",
       "      <td>1607</td>\n",
       "    </tr>\n",
       "    <tr>\n",
       "      <th>94</th>\n",
       "      <td>API15</td>\n",
       "      <td>42</td>\n",
       "    </tr>\n",
       "    <tr>\n",
       "      <th>...</th>\n",
       "      <td>...</td>\n",
       "      <td>...</td>\n",
       "    </tr>\n",
       "    <tr>\n",
       "      <th>38763</th>\n",
       "      <td>API19</td>\n",
       "      <td>172299</td>\n",
       "    </tr>\n",
       "    <tr>\n",
       "      <th>38764</th>\n",
       "      <td>API23</td>\n",
       "      <td>85221</td>\n",
       "    </tr>\n",
       "    <tr>\n",
       "      <th>38765</th>\n",
       "      <td>API24</td>\n",
       "      <td>20</td>\n",
       "    </tr>\n",
       "    <tr>\n",
       "      <th>38766</th>\n",
       "      <td>API7</td>\n",
       "      <td>183963</td>\n",
       "    </tr>\n",
       "    <tr>\n",
       "      <th>38767</th>\n",
       "      <td>API7</td>\n",
       "      <td>749</td>\n",
       "    </tr>\n",
       "  </tbody>\n",
       "</table>\n",
       "<p>1211 rows × 2 columns</p>\n",
       "</div>"
      ],
      "text/plain": [
       "         API     COUNT\n",
       "90     API12  12594166\n",
       "91     API12    482142\n",
       "92     API12         4\n",
       "93     API15      1607\n",
       "94     API15        42\n",
       "...      ...       ...\n",
       "38763  API19    172299\n",
       "38764  API23     85221\n",
       "38765  API24        20\n",
       "38766   API7    183963\n",
       "38767   API7       749\n",
       "\n",
       "[1211 rows x 2 columns]"
      ]
     },
     "execution_count": 14,
     "metadata": {},
     "output_type": "execute_result"
    }
   ],
   "source": [
    "#you can directly put condition in paranthesis also\n",
    "\n",
    "data[data.APPNAME == 'App1']\n",
    "\n",
    "data.loc[data.APPNAME == 'App2', ['API', 'COUNT']]"
   ]
  },
  {
   "cell_type": "code",
   "execution_count": 15,
   "metadata": {},
   "outputs": [
    {
     "name": "stdout",
     "output_type": "stream",
     "text": [
      "            DATE APPNAME    API STATUS     COUNT\n",
      "90    2023-07-04    App2  API12      S  12594166\n",
      "91    2023-07-04    App2  API12      F    482142\n",
      "92    2023-07-04    App2  API12     SE         4\n",
      "603   2023-07-05    App2  API12      S  12309119\n",
      "604   2023-07-05    App2  API12      F    467839\n",
      "...          ...     ...    ...    ...       ...\n",
      "38265 2023-09-18    App2  API12      S  12700378\n",
      "38266 2023-09-18    App2  API12      F   1013563\n",
      "38753 2023-09-19    App2  API12      S  13402619\n",
      "38754 2023-09-19    App2  API12      F   1148545\n",
      "38755 2023-09-19    App2  API12     SE         2\n",
      "\n",
      "[227 rows x 5 columns]\n",
      "                                DATE         COUNT\n",
      "count                            227  2.270000e+02\n",
      "mean   2023-08-10 21:53:07.665198336  4.608898e+06\n",
      "min              2023-07-04 00:00:00  1.000000e+00\n",
      "25%              2023-07-22 12:00:00  5.000000e+00\n",
      "50%              2023-08-11 00:00:00  1.401830e+05\n",
      "75%              2023-08-30 12:00:00  1.273102e+07\n",
      "max              2023-09-19 00:00:00  1.458307e+07\n",
      "std                              NaN  6.175079e+06\n"
     ]
    }
   ],
   "source": [
    "#apply multiple filter criteria to data freames\n",
    "ind_data = data[(data.APPNAME == 'App2') & (data.API == 'API12')]\n",
    "\n",
    "# trick to filter out data with multiple arguments for or opperator\n",
    "data[data.APPNAME.isin(['App1', 'App2'])]\n",
    "print(ind_data)\n",
    "print(ind_data.describe())\n"
   ]
  },
  {
   "cell_type": "code",
   "execution_count": 16,
   "metadata": {},
   "outputs": [
    {
     "data": {
      "text/plain": [
       "[<matplotlib.lines.Line2D at 0x25ffff43a10>]"
      ]
     },
     "execution_count": 16,
     "metadata": {},
     "output_type": "execute_result"
    },
    {
     "data": {
      "image/png": "[encoded data removed]",
      "text/plain": [
       "<Figure size 640x480 with 1 Axes>"
      ]
     },
     "metadata": {},
     "output_type": "display_data"
    }
   ],
   "source": [
    "#plot a date vs count graph for a particular API\n",
    "\n",
    "plt.plot(ind_data.DATE, ind_data.COUNT, marker='o')\n"
   ]
  },
  {
   "cell_type": "code",
   "execution_count": 17,
   "metadata": {},
   "outputs": [
    {
     "name": "stdout",
     "output_type": "stream",
     "text": [
      "12731016.5\n"
     ]
    }
   ],
   "source": [
    "print(ind_data.describe().loc['75%', 'COUNT'])"
   ]
  },
  {
   "cell_type": "code",
   "execution_count": 18,
   "metadata": {},
   "outputs": [
    {
     "name": "stdout",
     "output_type": "stream",
     "text": [
      "int64\n",
      "0\n",
      "0\n",
      "count    2.270000e+02\n",
      "mean     4.303948e-17\n",
      "std      1.002210e+00\n",
      "min     -7.480200e-01\n",
      "25%     -7.480193e-01\n",
      "50%     -7.252686e-01\n",
      "75%      1.318213e+00\n",
      "max      1.618800e+00\n",
      "Name: COUNT, dtype: float64\n"
     ]
    },
    {
     "name": "stderr",
     "output_type": "stream",
     "text": [
      "C:\\Users\\Prime\\AppData\\Local\\Temp\\ipykernel_4104\\3888132439.py:7: SettingWithCopyWarning: \n",
      "A value is trying to be set on a copy of a slice from a DataFrame.\n",
      "Try using .loc[row_indexer,col_indexer] = value instead\n",
      "\n",
      "See the caveats in the documentation: https://pandas.pydata.org/pandas-docs/stable/user_guide/indexing.html#returning-a-view-versus-a-copy\n",
      "  ind_data['zsc'] = zscored_count\n"
     ]
    },
    {
     "data": {
      "text/html": [
       "<div>\n",
       "<style scoped>\n",
       "    .dataframe tbody tr th:only-of-type {\n",
       "        vertical-align: middle;\n",
       "    }\n",
       "\n",
       "    .dataframe tbody tr th {\n",
       "        vertical-align: top;\n",
       "    }\n",
       "\n",
       "    .dataframe thead th {\n",
       "        text-align: right;\n",
       "    }\n",
       "</style>\n",
       "<table border=\"1\" class=\"dataframe\">\n",
       "  <thead>\n",
       "    <tr style=\"text-align: right;\">\n",
       "      <th></th>\n",
       "      <th>DATE</th>\n",
       "      <th>APPNAME</th>\n",
       "      <th>API</th>\n",
       "      <th>STATUS</th>\n",
       "      <th>COUNT</th>\n",
       "      <th>zsc</th>\n",
       "    </tr>\n",
       "  </thead>\n",
       "  <tbody>\n",
       "  </tbody>\n",
       "</table>\n",
       "</div>"
      ],
      "text/plain": [
       "Empty DataFrame\n",
       "Columns: [DATE, APPNAME, API, STATUS, COUNT, zsc]\n",
       "Index: []"
      ]
     },
     "execution_count": 18,
     "metadata": {},
     "output_type": "execute_result"
    }
   ],
   "source": [
    "print(ind_data['COUNT'].dtype)\n",
    "print(ind_data['COUNT'].isnull().sum())\n",
    "non_numeric_values = ind_data['COUNT'].apply(lambda x: not isinstance(x, (int, float)))\n",
    "print(non_numeric_values.sum())\n",
    "zscored_count = zscore(ind_data['COUNT'])\n",
    "print(zscored_count.describe())\n",
    "ind_data['zsc'] = zscored_count\n",
    "ind_data[ind_data.zsc > 2]\n"
   ]
  },
  {
   "cell_type": "code",
   "execution_count": 19,
   "metadata": {},
   "outputs": [
    {
     "data": {
      "text/plain": [
       "90       0\n",
       "91       0\n",
       "92       0\n",
       "603      0\n",
       "604      0\n",
       "        ..\n",
       "38265    0\n",
       "38266    0\n",
       "38753    0\n",
       "38754    0\n",
       "38755    0\n",
       "Length: 227, dtype: int64"
      ]
     },
     "execution_count": 19,
     "metadata": {},
     "output_type": "execute_result"
    }
   ],
   "source": [
    "ind_data[ind_data.COUNT > ind_data.describe().loc['75%', 'COUNT']]\n",
    "outlier = pd.Series([0] * ind_data.shape[0], index=ind_data.index)\n",
    "outlier[((zscored_count<-4) | (zscored_count>3))] = 1\n",
    "outlier"
   ]
  },
  {
   "cell_type": "code",
   "execution_count": 20,
   "metadata": {},
   "outputs": [
    {
     "name": "stderr",
     "output_type": "stream",
     "text": [
      "c:\\Users\\Prime\\AppData\\Local\\Programs\\Python\\Python311\\Lib\\site-packages\\seaborn\\_oldcore.py:1498: FutureWarning: is_categorical_dtype is deprecated and will be removed in a future version. Use isinstance(dtype, CategoricalDtype) instead\n",
      "  if pd.api.types.is_categorical_dtype(vector):\n",
      "c:\\Users\\Prime\\AppData\\Local\\Programs\\Python\\Python311\\Lib\\site-packages\\seaborn\\_oldcore.py:1498: FutureWarning: is_categorical_dtype is deprecated and will be removed in a future version. Use isinstance(dtype, CategoricalDtype) instead\n",
      "  if pd.api.types.is_categorical_dtype(vector):\n",
      "c:\\Users\\Prime\\AppData\\Local\\Programs\\Python\\Python311\\Lib\\site-packages\\seaborn\\_oldcore.py:1498: FutureWarning: is_categorical_dtype is deprecated and will be removed in a future version. Use isinstance(dtype, CategoricalDtype) instead\n",
      "  if pd.api.types.is_categorical_dtype(vector):\n",
      "c:\\Users\\Prime\\AppData\\Local\\Programs\\Python\\Python311\\Lib\\site-packages\\seaborn\\_oldcore.py:1498: FutureWarning: is_categorical_dtype is deprecated and will be removed in a future version. Use isinstance(dtype, CategoricalDtype) instead\n",
      "  if pd.api.types.is_categorical_dtype(vector):\n",
      "c:\\Users\\Prime\\AppData\\Local\\Programs\\Python\\Python311\\Lib\\site-packages\\seaborn\\_oldcore.py:1498: FutureWarning: is_categorical_dtype is deprecated and will be removed in a future version. Use isinstance(dtype, CategoricalDtype) instead\n",
      "  if pd.api.types.is_categorical_dtype(vector):\n",
      "C:\\Users\\Prime\\AppData\\Local\\Temp\\ipykernel_4104\\3890705391.py:3: UserWarning: The palette list has more values (2) than needed (1), which may not be intended.\n",
      "  sns.scatterplot(data=ind_data, x='DATE', y='COUNT', hue=outlier.astype(bool), palette=['green', 'red'])\n"
     ]
    },
    {
     "data": {
      "image/png": "[encoded data removed]",
      "text/plain": [
       "<Figure size 640x480 with 1 Axes>"
      ]
     },
     "metadata": {},
     "output_type": "display_data"
    }
   ],
   "source": [
    "# Create a scatter plot using Seaborn\n",
    "if not outlier.empty:\n",
    "    sns.scatterplot(data=ind_data, x='DATE', y='COUNT', hue=outlier.astype(bool), palette=['green', 'red'])\n",
    "else:\n",
    "    sns.scatterplot(data=ind_data, x='DATE', y='COUNT', color='green')"
   ]
  },
  {
   "cell_type": "code",
   "execution_count": 21,
   "metadata": {},
   "outputs": [
    {
     "data": {
      "image/png": "[encoded data removed]",
      "text/plain": [
       "<Figure size 640x480 with 1 Axes>"
      ]
     },
     "metadata": {},
     "output_type": "display_data"
    }
   ],
   "source": [
    "# Create a scatter plot for non-outliers (in green)\n",
    "plt.scatter(ind_data.DATE[~outlier.astype(bool)], ind_data.COUNT[~outlier.astype(bool)], color='green', label='Non-Outliers')\n",
    "\n",
    "# Create a scatter plot for outliers (in red)\n",
    "plt.scatter(ind_data.DATE[outlier.astype(bool)], ind_data.COUNT[outlier.astype(bool)], color='red', label='Outliers')\n",
    "\n",
    "# Add legend\n",
    "plt.legend()\n",
    "\n",
    "# Show the plot\n",
    "plt.show()\n"
   ]
  },
  {
   "cell_type": "code",
   "execution_count": null,
   "metadata": {},
   "outputs": [],
   "source": []
  }
 ],
 "metadata": {
  "kernelspec": {
   "display_name": "Python 3",
   "language": "python",
   "name": "python3"
  },
  "language_info": {
   "codemirror_mode": {
    "name": "ipython",
    "version": 3
   },
   "file_extension": ".py",
   "mimetype": "text/x-python",
   "name": "python",
   "nbconvert_exporter": "python",
   "pygments_lexer": "ipython3",
   "version": "3.11.4"
  },
  "orig_nbformat": 4
 },
 "nbformat": 4,
 "nbformat_minor": 2
}
