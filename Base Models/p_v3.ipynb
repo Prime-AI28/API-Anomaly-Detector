{
 "cells": [
  {
   "cell_type": "code",
   "execution_count": 60,
   "metadata": {},
   "outputs": [],
   "source": [
    "import pandas as pd\n",
    "import seaborn as sns\n",
    "from scipy.stats import zscore\n",
    "import matplotlib.pyplot as plt"
   ]
  },
  {
   "cell_type": "code",
   "execution_count": 61,
   "metadata": {},
   "outputs": [
    {
     "name": "stderr",
     "output_type": "stream",
     "text": [
      "C:\\Users\\Prime\\AppData\\Local\\Temp\\ipykernel_23148\\4218122945.py:8: SettingWithCopyWarning: \n",
      "A value is trying to be set on a copy of a slice from a DataFrame\n",
      "\n",
      "See the caveats in the documentation: https://pandas.pydata.org/pandas-docs/stable/user_guide/indexing.html#returning-a-view-versus-a-copy\n",
      "  df_gp.drop(['COUNT', 'STATUS'], axis=1, inplace=True)\n"
     ]
    }
   ],
   "source": [
    "data = pd.read_csv('API_Trend.csv')\n",
    "data['DATE'] = pd.to_datetime(data['DATE'], format='%d-%m-%y')\n",
    "\n",
    "df = data.copy()\n",
    "\n",
    "df['SUM_COUNT'] = df.groupby(['DATE','APPNAME', 'API'])['COUNT'].transform('sum')\n",
    "df_gp = df.drop_duplicates(subset=['DATE','APPNAME', 'API'])\n",
    "df_gp.drop(['COUNT', 'STATUS'], axis=1, inplace=True)\n",
    "df_gp = df_gp.reset_index(drop=True)\n",
    "df_gp = df_gp.sort_values(by=['DATE'], inplace=True)\n"
   ]
  },
  {
   "cell_type": "code",
   "execution_count": 62,
   "metadata": {},
   "outputs": [
    {
     "ename": "TypeError",
     "evalue": "'NoneType' object is not subscriptable",
     "output_type": "error",
     "traceback": [
      "\u001b[1;31m---------------------------------------------------------------------------\u001b[0m",
      "\u001b[1;31mTypeError\u001b[0m                                 Traceback (most recent call last)",
      "\u001b[1;32md:\\Project\\Base Models\\p_v3.ipynb Cell 3\u001b[0m line \u001b[0;36m2\n\u001b[0;32m      <a href='vscode-notebook-cell:/d%3A/Project/Base%20Models/p_v3.ipynb#X40sZmlsZQ%3D%3D?line=0'>1</a>\u001b[0m pro_df \u001b[39m=\u001b[39m []\n\u001b[1;32m----> <a href='vscode-notebook-cell:/d%3A/Project/Base%20Models/p_v3.ipynb#X40sZmlsZQ%3D%3D?line=1'>2</a>\u001b[0m \u001b[39mfor\u001b[39;00m i \u001b[39min\u001b[39;00m df_gp[\u001b[39m'\u001b[39;49m\u001b[39mAPPNAME\u001b[39;49m\u001b[39m'\u001b[39;49m]\u001b[39m.\u001b[39munique():\n\u001b[0;32m      <a href='vscode-notebook-cell:/d%3A/Project/Base%20Models/p_v3.ipynb#X40sZmlsZQ%3D%3D?line=2'>3</a>\u001b[0m     \u001b[39mfor\u001b[39;00m j \u001b[39min\u001b[39;00m df_gp[df_gp[\u001b[39m'\u001b[39m\u001b[39mAPPNAME\u001b[39m\u001b[39m'\u001b[39m]\u001b[39m==\u001b[39mi][\u001b[39m'\u001b[39m\u001b[39mAPI\u001b[39m\u001b[39m'\u001b[39m]\u001b[39m.\u001b[39munique():\n\u001b[0;32m      <a href='vscode-notebook-cell:/d%3A/Project/Base%20Models/p_v3.ipynb#X40sZmlsZQ%3D%3D?line=3'>4</a>\u001b[0m         ind_df \u001b[39m=\u001b[39m df_gp[(df_gp[\u001b[39m'\u001b[39m\u001b[39mAPPNAME\u001b[39m\u001b[39m'\u001b[39m]\u001b[39m==\u001b[39mi) \u001b[39m&\u001b[39m (df_gp[\u001b[39m'\u001b[39m\u001b[39mAPI\u001b[39m\u001b[39m'\u001b[39m]\u001b[39m==\u001b[39mj)]\n",
      "\u001b[1;31mTypeError\u001b[0m: 'NoneType' object is not subscriptable"
     ]
    }
   ],
   "source": [
    "pro_df = []\n",
    "for i in df_gp['APPNAME'].unique():\n",
    "    for j in df_gp[df_gp['APPNAME']==i]['API'].unique():\n",
    "        ind_df = df_gp[(df_gp['APPNAME']==i) & (df_gp['API']==j)]\n",
    "        zs = zscore(ind_df['SUM_COUNT'])\n",
    "        ind_df['ZS'] = zs\n",
    "        Outlier = pd.Series([0]*len(ind_df), index=ind_df.index)\n",
    "        Outlier[zs>=3] = 1\n",
    "        Outlier[zs<=-3] = 1\n",
    "        ind_df['OUTLIER'] = Outlier\n",
    "        pro_df.append(ind_df)\n",
    "final_df = pd.concat(pro_df)"
   ]
  },
  {
   "cell_type": "code",
   "execution_count": null,
   "metadata": {},
   "outputs": [],
   "source": [
    "\n",
    "for i in final_df[final_df['OUTLIER']==1]['APPNAME'].unique():\n",
    "    for j in final_df[(final_df['APPNAME']==i) & final_df['OUTLIER'] == 1]['API'].unique():\n",
    "        ind_df = final_df[(final_df['APPNAME']==i) & (final_df['API']==j)]\n",
    "        #plt.figure(figsize=(10, 5))\n",
    "        #plt.scatter(range(len(ind_df)), ind_df['SUM_COUNT'], c=ind_df['OUTLIER'])\n",
    "        #plt.title(i+' '+j)\n",
    "        "
   ]
  },
  {
   "cell_type": "code",
   "execution_count": null,
   "metadata": {},
   "outputs": [
    {
     "name": "stderr",
     "output_type": "stream",
     "text": [
      "C:\\Users\\Prime\\AppData\\Local\\Temp\\ipykernel_23148\\1093306045.py:1: UserWarning: Boolean Series key will be reindexed to match DataFrame index.\n",
      "  an_list = final_df[(final_df['DATE'] == '2023-08-08')][final_df['OUTLIER'] == 1][['APPNAME', 'API']].values.tolist()\n"
     ]
    },
    {
     "data": {
      "text/plain": [
       "[['App85', 'API23']]"
      ]
     },
     "execution_count": 58,
     "metadata": {},
     "output_type": "execute_result"
    }
   ],
   "source": [
    "an_list = final_df[(final_df['DATE'] == '2023-08-08')][final_df['OUTLIER'] == 1][['APPNAME', 'API']].values.tolist()\n",
    "an_list"
   ]
  },
  {
   "cell_type": "code",
   "execution_count": null,
   "metadata": {},
   "outputs": [
    {
     "data": {
      "text/html": [
       "<div>\n",
       "<style scoped>\n",
       "    .dataframe tbody tr th:only-of-type {\n",
       "        vertical-align: middle;\n",
       "    }\n",
       "\n",
       "    .dataframe tbody tr th {\n",
       "        vertical-align: top;\n",
       "    }\n",
       "\n",
       "    .dataframe thead th {\n",
       "        text-align: right;\n",
       "    }\n",
       "</style>\n",
       "<table border=\"1\" class=\"dataframe\">\n",
       "  <thead>\n",
       "    <tr style=\"text-align: right;\">\n",
       "      <th></th>\n",
       "      <th>DATE</th>\n",
       "      <th>APPNAME</th>\n",
       "      <th>API</th>\n",
       "      <th>SUM_COUNT</th>\n",
       "      <th>OUTLIERS</th>\n",
       "      <th>ZS</th>\n",
       "      <th>OUTLIER</th>\n",
       "    </tr>\n",
       "  </thead>\n",
       "  <tbody>\n",
       "    <tr>\n",
       "      <th>0</th>\n",
       "      <td>2023-07-04</td>\n",
       "      <td>App1</td>\n",
       "      <td>API18</td>\n",
       "      <td>8</td>\n",
       "      <td>0</td>\n",
       "      <td>-0.316085</td>\n",
       "      <td>0</td>\n",
       "    </tr>\n",
       "    <tr>\n",
       "      <th>301</th>\n",
       "      <td>2023-07-05</td>\n",
       "      <td>App1</td>\n",
       "      <td>API18</td>\n",
       "      <td>9</td>\n",
       "      <td>0</td>\n",
       "      <td>-0.296613</td>\n",
       "      <td>0</td>\n",
       "    </tr>\n",
       "    <tr>\n",
       "      <th>599</th>\n",
       "      <td>2023-07-06</td>\n",
       "      <td>App1</td>\n",
       "      <td>API18</td>\n",
       "      <td>5</td>\n",
       "      <td>0</td>\n",
       "      <td>-0.374501</td>\n",
       "      <td>0</td>\n",
       "    </tr>\n",
       "    <tr>\n",
       "      <th>898</th>\n",
       "      <td>2023-07-07</td>\n",
       "      <td>App1</td>\n",
       "      <td>API18</td>\n",
       "      <td>18</td>\n",
       "      <td>0</td>\n",
       "      <td>-0.121366</td>\n",
       "      <td>0</td>\n",
       "    </tr>\n",
       "    <tr>\n",
       "      <th>1197</th>\n",
       "      <td>2023-07-08</td>\n",
       "      <td>App1</td>\n",
       "      <td>API18</td>\n",
       "      <td>17</td>\n",
       "      <td>0</td>\n",
       "      <td>-0.140838</td>\n",
       "      <td>0</td>\n",
       "    </tr>\n",
       "    <tr>\n",
       "      <th>...</th>\n",
       "      <td>...</td>\n",
       "      <td>...</td>\n",
       "      <td>...</td>\n",
       "      <td>...</td>\n",
       "      <td>...</td>\n",
       "      <td>...</td>\n",
       "      <td>...</td>\n",
       "    </tr>\n",
       "    <tr>\n",
       "      <th>20825</th>\n",
       "      <td>2023-09-12</td>\n",
       "      <td>App137</td>\n",
       "      <td>API15</td>\n",
       "      <td>1</td>\n",
       "      <td>0</td>\n",
       "      <td>-0.500000</td>\n",
       "      <td>0</td>\n",
       "    </tr>\n",
       "    <tr>\n",
       "      <th>21112</th>\n",
       "      <td>2023-09-13</td>\n",
       "      <td>App137</td>\n",
       "      <td>API15</td>\n",
       "      <td>1</td>\n",
       "      <td>0</td>\n",
       "      <td>-0.500000</td>\n",
       "      <td>0</td>\n",
       "    </tr>\n",
       "    <tr>\n",
       "      <th>21408</th>\n",
       "      <td>2023-09-14</td>\n",
       "      <td>App137</td>\n",
       "      <td>API15</td>\n",
       "      <td>1</td>\n",
       "      <td>0</td>\n",
       "      <td>-0.500000</td>\n",
       "      <td>0</td>\n",
       "    </tr>\n",
       "    <tr>\n",
       "      <th>18772</th>\n",
       "      <td>2023-09-05</td>\n",
       "      <td>App138</td>\n",
       "      <td>API15</td>\n",
       "      <td>1</td>\n",
       "      <td>0</td>\n",
       "      <td>NaN</td>\n",
       "      <td>0</td>\n",
       "    </tr>\n",
       "    <tr>\n",
       "      <th>19658</th>\n",
       "      <td>2023-09-08</td>\n",
       "      <td>App138</td>\n",
       "      <td>API15</td>\n",
       "      <td>1</td>\n",
       "      <td>0</td>\n",
       "      <td>NaN</td>\n",
       "      <td>0</td>\n",
       "    </tr>\n",
       "  </tbody>\n",
       "</table>\n",
       "<p>23103 rows × 7 columns</p>\n",
       "</div>"
      ],
      "text/plain": [
       "            DATE APPNAME    API  SUM_COUNT  OUTLIERS        ZS  OUTLIER\n",
       "0     2023-07-04    App1  API18          8         0 -0.316085        0\n",
       "301   2023-07-05    App1  API18          9         0 -0.296613        0\n",
       "599   2023-07-06    App1  API18          5         0 -0.374501        0\n",
       "898   2023-07-07    App1  API18         18         0 -0.121366        0\n",
       "1197  2023-07-08    App1  API18         17         0 -0.140838        0\n",
       "...          ...     ...    ...        ...       ...       ...      ...\n",
       "20825 2023-09-12  App137  API15          1         0 -0.500000        0\n",
       "21112 2023-09-13  App137  API15          1         0 -0.500000        0\n",
       "21408 2023-09-14  App137  API15          1         0 -0.500000        0\n",
       "18772 2023-09-05  App138  API15          1         0       NaN        0\n",
       "19658 2023-09-08  App138  API15          1         0       NaN        0\n",
       "\n",
       "[23103 rows x 7 columns]"
      ]
     },
     "execution_count": 15,
     "metadata": {},
     "output_type": "execute_result"
    }
   ],
   "source": [
    "final_df"
   ]
  },
  {
   "cell_type": "code",
   "execution_count": null,
   "metadata": {},
   "outputs": [],
   "source": []
  }
 ],
 "metadata": {
  "kernelspec": {
   "display_name": "Python 3 (ipykernel)",
   "language": "python",
   "name": "python3"
  },
  "language_info": {
   "codemirror_mode": {
    "name": "ipython",
    "version": 3
   },
   "file_extension": ".py",
   "mimetype": "text/x-python",
   "name": "python",
   "nbconvert_exporter": "python",
   "pygments_lexer": "ipython3",
   "version": "3.11.4"
  },
  "orig_nbformat": 4
 },
 "nbformat": 4,
 "nbformat_minor": 2
}
