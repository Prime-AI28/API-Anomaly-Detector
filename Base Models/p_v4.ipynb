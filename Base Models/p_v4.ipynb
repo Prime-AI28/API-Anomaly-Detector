{
 "cells": [
  {
   "cell_type": "code",
   "execution_count": 3,
   "metadata": {},
   "outputs": [
    {
     "name": "stderr",
     "output_type": "stream",
     "text": [
      "c:\\Users\\Prime\\AppData\\Local\\Programs\\Python\\Python311\\Lib\\site-packages\\tqdm\\auto.py:21: TqdmWarning: IProgress not found. Please update jupyter and ipywidgets. See https://ipywidgets.readthedocs.io/en/stable/user_install.html\n",
      "  from .autonotebook import tqdm as notebook_tqdm\n"
     ]
    }
   ],
   "source": [
    "import pandas as pd\n",
    "import numpy as np\n",
    "import seaborn as sns\n",
    "from scipy.stats import zscore\n",
    "from sklearn.ensemble import IsolationForest, RandomForestClassifier\n",
    "from sklearn.svm import OneClassSVM\n",
    "from sklearn.preprocessing import LabelEncoder\n",
    "from sklearn.metrics import classification_report\n",
    "from sklearn.metrics import ConfusionMatrixDisplay\n",
    "import matplotlib.pyplot as plt\n",
    "from sklearn.model_selection import train_test_split\n",
    "from prophet import Prophet\n",
    "\n",
    "import plotly.express as px\n"
   ]
  },
  {
   "cell_type": "code",
   "execution_count": 4,
   "metadata": {},
   "outputs": [],
   "source": [
    "def load_data(path):\n",
    "    df = pd.read_csv(path)\n",
    "    df.head()\n",
    "    return df"
   ]
  },
  {
   "cell_type": "code",
   "execution_count": 5,
   "metadata": {},
   "outputs": [],
   "source": [
    "def clean_data(df):\n",
    "    # Check for missing values\n",
    "    df.isnull().sum()\n",
    "    # Handle missing values (e.g., drop rows with missing values)\n",
    "    df.dropna(inplace=True)\n",
    "    # Remove duplicate rows\n",
    "    df.drop_duplicates(inplace=True)\n",
    "\n",
    "    df['DATE'] = pd.to_datetime(df['DATE'], format='%d-%m-%y')\n",
    "    df.rename(columns={'APPNAME': 'Application', 'API': 'API_Version', 'STATUS': 'Status', 'COUNT': 'Request_Count'}, inplace=True) \n",
    "\n",
    "    return df\n"
   ]
  },
  {
   "cell_type": "code",
   "execution_count": 6,
   "metadata": {},
   "outputs": [],
   "source": [
    "def Data_by_API(df):\n",
    "    # Group data by API\n",
    "    df_by_api = df.groupby(['DATE', 'API_Version', 'Status']).sum().reset_index()\n",
    "    df_by_api = df_by_api.sort_values(by=['Request_Count'], ascending=False)\n",
    "    df_by_api.drop(columns=['Application'], inplace=True)\n",
    "    df_by_api.sort_values(by=['DATE'], inplace=True)\n",
    "    return df_by_api"
   ]
  },
  {
   "cell_type": "code",
   "execution_count": 7,
   "metadata": {},
   "outputs": [],
   "source": [
    "def Data_by_APP(df):\n",
    "    # Group data by APP\n",
    "    df_by_app = df.groupby(['DATE', 'Application', 'Status']).sum().reset_index()\n",
    "    df_by_app = df_by_app.sort_values(by=['Request_Count'], ascending=False)\n",
    "    df_by_app.drop(columns=['API_Version'], inplace=True)\n",
    "    df_by_app.sort_values(by=['DATE'], inplace=True)\n",
    "    return df_by_app"
   ]
  },
  {
   "cell_type": "code",
   "execution_count": 8,
   "metadata": {},
   "outputs": [],
   "source": [
    "def Data_by_DATE(df):\n",
    "    # Group data by DATE\n",
    "    df_by_date = df.groupby(['DATE', 'Status']).sum().reset_index()\n",
    "    df_by_date.drop(columns=['API_Version', 'Application'], inplace=True)\n",
    "    df_by_date.sort_values(by=['DATE'], inplace=True)\n",
    "    return df_by_date"
   ]
  },
  {
   "cell_type": "markdown",
   "metadata": {},
   "source": [
    "# Data Visualization"
   ]
  },
  {
   "cell_type": "code",
   "execution_count": 9,
   "metadata": {},
   "outputs": [],
   "source": [
    "def histogram(df):\n",
    "    df['Request_Count'].hist()\n",
    "    plt.title('Distribution of Request Counts')\n",
    "    plt.xlabel('Request Count')\n",
    "    plt.ylabel('Frequency')\n",
    "    plt.show()"
   ]
  },
  {
   "cell_type": "code",
   "execution_count": 10,
   "metadata": {},
   "outputs": [],
   "source": [
    "def box(df, text = 'DATE'):\n",
    "    df.boxplot(column='Request_Count', by= text, figsize=(17, 9))\n",
    "    plt.title('Box Plot of Request Counts')\n",
    "    plt.ylabel('Request Count')\n",
    "    plt.show()\n"
   ]
  },
  {
   "cell_type": "code",
   "execution_count": 11,
   "metadata": {},
   "outputs": [],
   "source": [
    "def time_series(df):\n",
    "    time_series_df = df.groupby('DATE')['Request_Count'].sum()\n",
    "    time_series_df.plot(figsize=(17, 6))\n",
    "    plt.title('Time Series of Request Counts')\n",
    "    plt.xlabel('Date')\n",
    "    plt.ylabel('Request Count')\n",
    "    plt.show()\n"
   ]
  },
  {
   "cell_type": "code",
   "execution_count": 12,
   "metadata": {},
   "outputs": [],
   "source": [
    "def bar(df):\n",
    "    application_counts = df['Application'].value_counts()\n",
    "    application_counts.plot(kind='bar')\n",
    "    plt.title('Request Counts by Application')\n",
    "    plt.xlabel('Application')\n",
    "    plt.ylabel('Request Count')\n",
    "    plt.show()\n"
   ]
  },
  {
   "cell_type": "code",
   "execution_count": 13,
   "metadata": {},
   "outputs": [],
   "source": [
    "def correlation(df):\n",
    "    le = LabelEncoder()\n",
    "    df['Application'] = le.fit_transform(df['Application'])\n",
    "    df['API_Version'] = le.fit_transform(df['API_Version'])\n",
    "    df['Status'] = le.fit_transform(df['Status'])\n",
    "    correlation_matrix = df.corr()\n",
    "    # Visualize the correlation matrix as a heatmap\n",
    "    sns.heatmap(correlation_matrix, annot=True, cmap='coolwarm')\n",
    "    plt.title('Correlation Matrix')\n",
    "    plt.show()\n"
   ]
  },
  {
   "cell_type": "code",
   "execution_count": 14,
   "metadata": {},
   "outputs": [],
   "source": [
    "def display_table(df):\n",
    "    print(df.describe())\n",
    "    print(df.info())\n",
    "    print(df.dtypes)\n",
    "    print(df)"
   ]
  },
  {
   "cell_type": "markdown",
   "metadata": {},
   "source": [
    "# Main Program"
   ]
  },
  {
   "cell_type": "code",
   "execution_count": 15,
   "metadata": {},
   "outputs": [],
   "source": [
    "data = load_data('API_Trend.csv')\n",
    "#display_table(data)\n",
    "c_data = clean_data(data)\n",
    "#display_table(c_data)\n",
    "c_data.sort_values(by=['DATE'], inplace=True)\n",
    "#display_table(c_data)"
   ]
  },
  {
   "cell_type": "code",
   "execution_count": 16,
   "metadata": {},
   "outputs": [
    {
     "name": "stdout",
     "output_type": "stream",
     "text": [
      "                                DATE  Request_Count\n",
      "count                           3493   3.493000e+03\n",
      "mean   2023-08-11 02:40:21.986830848   2.153965e+06\n",
      "min              2023-07-04 00:00:00   1.000000e+00\n",
      "25%              2023-07-23 00:00:00   7.030000e+02\n",
      "50%              2023-08-11 00:00:00   2.517680e+05\n",
      "75%              2023-08-31 00:00:00   1.057832e+06\n",
      "max              2023-09-19 00:00:00   3.261928e+07\n",
      "std                              NaN   5.488904e+06\n",
      "<class 'pandas.core.frame.DataFrame'>\n",
      "Index: 3493 entries, 35 to 3458\n",
      "Data columns (total 4 columns):\n",
      " #   Column         Non-Null Count  Dtype         \n",
      "---  ------         --------------  -----         \n",
      " 0   DATE           3493 non-null   datetime64[ns]\n",
      " 1   API_Version    3493 non-null   object        \n",
      " 2   Status         3493 non-null   object        \n",
      " 3   Request_Count  3493 non-null   int64         \n",
      "dtypes: datetime64[ns](1), int64(1), object(2)\n",
      "memory usage: 136.4+ KB\n",
      "None\n",
      "DATE             datetime64[ns]\n",
      "API_Version              object\n",
      "Status                   object\n",
      "Request_Count             int64\n",
      "dtype: object\n",
      "           DATE API_Version Status  Request_Count\n",
      "35   2023-07-04        API3      S         238849\n",
      "32   2023-07-04       API26      S         993144\n",
      "43   2023-07-04        API8      S             49\n",
      "7    2023-07-04       API12      S       23577116\n",
      "8    2023-07-04       API12     SE              4\n",
      "...         ...         ...    ...            ...\n",
      "3461 2023-09-19       API17      F         500652\n",
      "3460 2023-09-19       API15      S       12546116\n",
      "3472 2023-09-19       API23      S         508523\n",
      "3484 2023-09-19        API4      S         400422\n",
      "3458 2023-09-19       API14      S         410116\n",
      "\n",
      "[3493 rows x 4 columns]\n"
     ]
    },
    {
     "data": {
      "image/png": "[encoded data removed]",
      "text/plain": [
       "<Figure size 1700x900 with 1 Axes>"
      ]
     },
     "metadata": {},
     "output_type": "display_data"
    }
   ],
   "source": [
    "#Group data by API\n",
    "API_data = Data_by_API(c_data)\n",
    "display_table(API_data)\n",
    "box(API_data, 'API_Version')"
   ]
  },
  {
   "cell_type": "code",
   "execution_count": 17,
   "metadata": {},
   "outputs": [
    {
     "name": "stdout",
     "output_type": "stream",
     "text": [
      "                                DATE  Request_Count\n",
      "count                          15284   1.528400e+04\n",
      "mean   2023-08-11 10:27:23.130070784   4.922664e+05\n",
      "min              2023-07-04 00:00:00   1.000000e+00\n",
      "25%              2023-07-23 00:00:00   6.100000e+01\n",
      "50%              2023-08-11 00:00:00   2.322000e+03\n",
      "75%              2023-08-31 00:00:00   5.823350e+04\n",
      "max              2023-09-19 00:00:00   1.894917e+07\n",
      "std                              NaN   1.904874e+06\n",
      "<class 'pandas.core.frame.DataFrame'>\n",
      "Index: 15284 entries, 116 to 15239\n",
      "Data columns (total 4 columns):\n",
      " #   Column         Non-Null Count  Dtype         \n",
      "---  ------         --------------  -----         \n",
      " 0   DATE           15284 non-null  datetime64[ns]\n",
      " 1   Application    15284 non-null  object        \n",
      " 2   Status         15284 non-null  object        \n",
      " 3   Request_Count  15284 non-null  int64         \n",
      "dtypes: datetime64[ns](1), int64(1), object(2)\n",
      "memory usage: 597.0+ KB\n",
      "None\n",
      "DATE             datetime64[ns]\n",
      "Application              object\n",
      "Status                   object\n",
      "Request_Count             int64\n",
      "dtype: object\n",
      "            DATE Application Status  Request_Count\n",
      "116   2023-07-04       App54      S       10671799\n",
      "44    2023-07-04       App21      F            666\n",
      "101   2023-07-04       App48      F           1063\n",
      "86    2023-07-04       App40      S            221\n",
      "12    2023-07-04      App105      F            147\n",
      "...          ...         ...    ...            ...\n",
      "15134 2023-09-19       App23      F            276\n",
      "15265 2023-09-19       App90      S         997719\n",
      "15252 2023-09-19       App83      S         166867\n",
      "15227 2023-09-19        App7      S            642\n",
      "15239 2023-09-19       App77      S          45043\n",
      "\n",
      "[15284 rows x 4 columns]\n"
     ]
    }
   ],
   "source": [
    "#Group data by APP\n",
    "APP_data = Data_by_APP(c_data)\n",
    "display_table(APP_data)"
   ]
  },
  {
   "cell_type": "code",
   "execution_count": 18,
   "metadata": {},
   "outputs": [
    {
     "name": "stdout",
     "output_type": "stream",
     "text": [
      "                      DATE  Request_Count\n",
      "count                  234   2.340000e+02\n",
      "mean   2023-08-11 12:00:00   3.215299e+07\n",
      "min    2023-07-04 00:00:00   2.000000e+00\n",
      "25%    2023-07-23 00:00:00   1.250000e+01\n",
      "50%    2023-08-11 12:00:00   1.336727e+07\n",
      "75%    2023-08-31 00:00:00   7.967682e+07\n",
      "max    2023-09-19 00:00:00   9.910669e+07\n",
      "std                    NaN   3.640629e+07\n",
      "<class 'pandas.core.frame.DataFrame'>\n",
      "Index: 234 entries, 0 to 233\n",
      "Data columns (total 3 columns):\n",
      " #   Column         Non-Null Count  Dtype         \n",
      "---  ------         --------------  -----         \n",
      " 0   DATE           234 non-null    datetime64[ns]\n",
      " 1   Status         234 non-null    object        \n",
      " 2   Request_Count  234 non-null    int64         \n",
      "dtypes: datetime64[ns](1), int64(1), object(1)\n",
      "memory usage: 7.3+ KB\n",
      "None\n",
      "DATE             datetime64[ns]\n",
      "Status                   object\n",
      "Request_Count             int64\n",
      "dtype: object\n",
      "          DATE Status  Request_Count\n",
      "0   2023-07-04      F       13616467\n",
      "1   2023-07-04      S       80786273\n",
      "2   2023-07-04     SE             18\n",
      "3   2023-07-05      F       13293223\n",
      "4   2023-07-05      S       78806009\n",
      "..         ...    ...            ...\n",
      "228 2023-09-18      F       12783737\n",
      "230 2023-09-18     SE              8\n",
      "232 2023-09-19      S       83538247\n",
      "231 2023-09-19      F       13133115\n",
      "233 2023-09-19     SE             10\n",
      "\n",
      "[234 rows x 3 columns]\n"
     ]
    },
    {
     "data": {
      "image/png": "[encoded data removed]",
      "text/plain": [
       "<Figure size 1700x900 with 1 Axes>"
      ]
     },
     "metadata": {},
     "output_type": "display_data"
    }
   ],
   "source": [
    "#Group data by DATE\n",
    "DATE_data = Data_by_DATE(c_data)\n",
    "display_table(DATE_data)\n",
    "box(DATE_data, 'Status')"
   ]
  },
  {
   "cell_type": "code",
   "execution_count": 19,
   "metadata": {},
   "outputs": [],
   "source": [
    "def time_series_data(df):\n",
    "    total_unpro_df = c_data[c_data['Status'] != 'SE']\n",
    "    data__total = total_unpro_df.groupby(['DATE']).sum().reset_index()\n",
    "    data__total.drop(columns=['API_Version', 'Application', 'Status'], inplace=True)\n",
    "    data__total.rename(columns={ 'DATE':'ds','Request_Count': 'y'}, inplace=True) \n",
    "    \n",
    "    return data__total"
   ]
  },
  {
   "cell_type": "code",
   "execution_count": 48,
   "metadata": {},
   "outputs": [],
   "source": [
    "from sklearn.model_selection import train_test_split\n",
    "from sklearn.ensemble import RandomForestRegressor, IsolationForest\n",
    "from datetime import datetime, timedelta\n",
    "import collections\n",
    "collections.Callable = collections.abc.Callable\n"
   ]
  },
  {
   "cell_type": "code",
   "execution_count": 69,
   "metadata": {},
   "outputs": [],
   "source": [
    "data_total = time_series_data(c_data)\n",
    "\n",
    "data_total['dow'] = data_total['ds'].dt.dayofweek.astype(int)\n",
    "data_total['ds'] = data_total['ds'].values.astype(float)\n",
    "\n",
    "isolation_forest = IsolationForest(contamination=0.1)  # You can adjust the contamination parameter\n",
    "\n",
    "y_pred = isolation_forest.fit_predict(data_total)\n",
    "data_total_no_outliers = data_total[y_pred == 1]"
   ]
  },
  {
   "cell_type": "code",
   "execution_count": 71,
   "metadata": {},
   "outputs": [
    {
     "data": {
      "text/plain": [
       "array([97118536.99, 97578374.34, 97679222.07, 97453127.51, 96775113.62,\n",
       "       94075154.62, 97023092.01])"
      ]
     },
     "execution_count": 71,
     "metadata": {},
     "output_type": "execute_result"
    }
   ],
   "source": [
    "X = data_total_no_outliers[['ds', 'dow']]\n",
    "y = data_total_no_outliers['y']\n",
    "X_train, X_test, y_train, y_test = train_test_split(X, y, test_size=0.2, random_state=42)\n",
    "\n",
    "model = RandomForestRegressor(n_estimators=100, random_state=42)\n",
    "model.fit(X_train, y_train)\n",
    "\n",
    "# Assuming you've already converted 'ds' to float earlier\n",
    "# Revert 'ds' back to datetime64[ns]\n",
    "data_total['ds'] = data_total['ds'].astype('datetime64[ns]')\n",
    "last_date = data_total['ds'].max()\n",
    "future_dates = pd.date_range(start=last_date + timedelta(days=1), periods=7, freq='D')\n",
    "future_dates_df = pd.DataFrame({'ds': future_dates})\n",
    "future_dates_df['dow'] = future_dates_df['ds'].dt.dayofweek.astype(int)\n",
    "future_dates_df['ds'] = future_dates_df['ds'].values.astype(float)\n",
    "future_predictions = model.predict(future_dates_df)\n",
    "\n",
    "future_predictions"
   ]
  },
  {
   "cell_type": "code",
   "execution_count": 73,
   "metadata": {},
   "outputs": [
    {
     "name": "stderr",
     "output_type": "stream",
     "text": [
      "c:\\Users\\Prime\\AppData\\Local\\Programs\\Python\\Python311\\Lib\\site-packages\\_plotly_utils\\basevalidators.py:105: FutureWarning:\n",
      "\n",
      "The behavior of DatetimeProperties.to_pydatetime is deprecated, in a future version this will return a Series containing python datetime objects instead of an ndarray. To retain the old behavior, call `np.array` on the result\n",
      "\n"
     ]
    },
    {
     "data": {
      "application/vnd.plotly.v1+json": {
       "config": {
        "plotlyServerURL": "https://plot.ly"
       },
       "data": [
        {
         "hovertemplate": "<extra></extra>",
         "legendgroup": "",
         "line": {
          "color": "#636efa",
          "dash": "solid"
         },
         "marker": {
          "symbol": "circle"
         },
         "mode": "lines",
         "name": "",
         "orientation": "v",
         "showlegend": false,
         "type": "scatter",
         "xaxis": "x",
         "yaxis": "y"
        },
        {
         "hovertemplate": "x=%{x}<br>y=%{y}<extra></extra>",
         "legendgroup": "",
         "line": {
          "color": "#636efa",
          "dash": "solid"
         },
         "marker": {
          "symbol": "circle"
         },
         "mode": "lines",
         "name": "",
         "orientation": "v",
         "showlegend": false,
         "type": "scatter",
         "x": [
          "2023-09-20T00:00:00",
          "2023-09-21T00:00:00",
          "2023-09-22T00:00:00",
          "2023-09-23T00:00:00",
          "2023-09-24T00:00:00",
          "2023-09-25T00:00:00",
          "2023-09-26T00:00:00"
         ],
         "xaxis": "x",
         "y": [
          97118536.99,
          97578374.34,
          97679222.07,
          97453127.51,
          96775113.62,
          94075154.62,
          97023092.01
         ],
         "yaxis": "y"
        }
       ],
       "layout": {
        "legend": {
         "tracegroupgap": 0
        },
        "margin": {
         "t": 60
        },
        "template": {
         "data": {
          "bar": [
           {
            "error_x": {
             "color": "#2a3f5f"
            },
            "error_y": {
             "color": "#2a3f5f"
            },
            "marker": {
             "line": {
              "color": "#E5ECF6",
              "width": 0.5
             },
             "pattern": {
              "fillmode": "overlay",
              "size": 10,
              "solidity": 0.2
             }
            },
            "type": "bar"
           }
          ],
          "barpolar": [
           {
            "marker": {
             "line": {
              "color": "#E5ECF6",
              "width": 0.5
             },
             "pattern": {
              "fillmode": "overlay",
              "size": 10,
              "solidity": 0.2
             }
            },
            "type": "barpolar"
           }
          ],
          "carpet": [
           {
            "aaxis": {
             "endlinecolor": "#2a3f5f",
             "gridcolor": "white",
             "linecolor": "white",
             "minorgridcolor": "white",
             "startlinecolor": "#2a3f5f"
            },
            "baxis": {
             "endlinecolor": "#2a3f5f",
             "gridcolor": "white",
             "linecolor": "white",
             "minorgridcolor": "white",
             "startlinecolor": "#2a3f5f"
            },
            "type": "carpet"
           }
          ],
          "choropleth": [
           {
            "colorbar": {
             "outlinewidth": 0,
             "ticks": ""
            },
            "type": "choropleth"
           }
          ],
          "contour": [
           {
            "colorbar": {
             "outlinewidth": 0,
             "ticks": ""
            },
            "colorscale": [
             [
              0,
              "#0d0887"
             ],
             [
              0.1111111111111111,
              "#46039f"
             ],
             [
              0.2222222222222222,
              "#7201a8"
             ],
             [
              0.3333333333333333,
              "#9c179e"
             ],
             [
              0.4444444444444444,
              "#bd3786"
             ],
             [
              0.5555555555555556,
              "#d8576b"
             ],
             [
              0.6666666666666666,
              "#ed7953"
             ],
             [
              0.7777777777777778,
              "#fb9f3a"
             ],
             [
              0.8888888888888888,
              "#fdca26"
             ],
             [
              1,
              "#f0f921"
             ]
            ],
            "type": "contour"
           }
          ],
          "contourcarpet": [
           {
            "colorbar": {
             "outlinewidth": 0,
             "ticks": ""
            },
            "type": "contourcarpet"
           }
          ],
          "heatmap": [
           {
            "colorbar": {
             "outlinewidth": 0,
             "ticks": ""
            },
            "colorscale": [
             [
              0,
              "#0d0887"
             ],
             [
              0.1111111111111111,
              "#46039f"
             ],
             [
              0.2222222222222222,
              "#7201a8"
             ],
             [
              0.3333333333333333,
              "#9c179e"
             ],
             [
              0.4444444444444444,
              "#bd3786"
             ],
             [
              0.5555555555555556,
              "#d8576b"
             ],
             [
              0.6666666666666666,
              "#ed7953"
             ],
             [
              0.7777777777777778,
              "#fb9f3a"
             ],
             [
              0.8888888888888888,
              "#fdca26"
             ],
             [
              1,
              "#f0f921"
             ]
            ],
            "type": "heatmap"
           }
          ],
          "heatmapgl": [
           {
            "colorbar": {
             "outlinewidth": 0,
             "ticks": ""
            },
            "colorscale": [
             [
              0,
              "#0d0887"
             ],
             [
              0.1111111111111111,
              "#46039f"
             ],
             [
              0.2222222222222222,
              "#7201a8"
             ],
             [
              0.3333333333333333,
              "#9c179e"
             ],
             [
              0.4444444444444444,
              "#bd3786"
             ],
             [
              0.5555555555555556,
              "#d8576b"
             ],
             [
              0.6666666666666666,
              "#ed7953"
             ],
             [
              0.7777777777777778,
              "#fb9f3a"
             ],
             [
              0.8888888888888888,
              "#fdca26"
             ],
             [
              1,
              "#f0f921"
             ]
            ],
            "type": "heatmapgl"
           }
          ],
          "histogram": [
           {
            "marker": {
             "pattern": {
              "fillmode": "overlay",
              "size": 10,
              "solidity": 0.2
             }
            },
            "type": "histogram"
           }
          ],
          "histogram2d": [
           {
            "colorbar": {
             "outlinewidth": 0,
             "ticks": ""
            },
            "colorscale": [
             [
              0,
              "#0d0887"
             ],
             [
              0.1111111111111111,
              "#46039f"
             ],
             [
              0.2222222222222222,
              "#7201a8"
             ],
             [
              0.3333333333333333,
              "#9c179e"
             ],
             [
              0.4444444444444444,
              "#bd3786"
             ],
             [
              0.5555555555555556,
              "#d8576b"
             ],
             [
              0.6666666666666666,
              "#ed7953"
             ],
             [
              0.7777777777777778,
              "#fb9f3a"
             ],
             [
              0.8888888888888888,
              "#fdca26"
             ],
             [
              1,
              "#f0f921"
             ]
            ],
            "type": "histogram2d"
           }
          ],
          "histogram2dcontour": [
           {
            "colorbar": {
             "outlinewidth": 0,
             "ticks": ""
            },
            "colorscale": [
             [
              0,
              "#0d0887"
             ],
             [
              0.1111111111111111,
              "#46039f"
             ],
             [
              0.2222222222222222,
              "#7201a8"
             ],
             [
              0.3333333333333333,
              "#9c179e"
             ],
             [
              0.4444444444444444,
              "#bd3786"
             ],
             [
              0.5555555555555556,
              "#d8576b"
             ],
             [
              0.6666666666666666,
              "#ed7953"
             ],
             [
              0.7777777777777778,
              "#fb9f3a"
             ],
             [
              0.8888888888888888,
              "#fdca26"
             ],
             [
              1,
              "#f0f921"
             ]
            ],
            "type": "histogram2dcontour"
           }
          ],
          "mesh3d": [
           {
            "colorbar": {
             "outlinewidth": 0,
             "ticks": ""
            },
            "type": "mesh3d"
           }
          ],
          "parcoords": [
           {
            "line": {
             "colorbar": {
              "outlinewidth": 0,
              "ticks": ""
             }
            },
            "type": "parcoords"
           }
          ],
          "pie": [
           {
            "automargin": true,
            "type": "pie"
           }
          ],
          "scatter": [
           {
            "fillpattern": {
             "fillmode": "overlay",
             "size": 10,
             "solidity": 0.2
            },
            "type": "scatter"
           }
          ],
          "scatter3d": [
           {
            "line": {
             "colorbar": {
              "outlinewidth": 0,
              "ticks": ""
             }
            },
            "marker": {
             "colorbar": {
              "outlinewidth": 0,
              "ticks": ""
             }
            },
            "type": "scatter3d"
           }
          ],
          "scattercarpet": [
           {
            "marker": {
             "colorbar": {
              "outlinewidth": 0,
              "ticks": ""
             }
            },
            "type": "scattercarpet"
           }
          ],
          "scattergeo": [
           {
            "marker": {
             "colorbar": {
              "outlinewidth": 0,
              "ticks": ""
             }
            },
            "type": "scattergeo"
           }
          ],
          "scattergl": [
           {
            "marker": {
             "colorbar": {
              "outlinewidth": 0,
              "ticks": ""
             }
            },
            "type": "scattergl"
           }
          ],
          "scattermapbox": [
           {
            "marker": {
             "colorbar": {
              "outlinewidth": 0,
              "ticks": ""
             }
            },
            "type": "scattermapbox"
           }
          ],
          "scatterpolar": [
           {
            "marker": {
             "colorbar": {
              "outlinewidth": 0,
              "ticks": ""
             }
            },
            "type": "scatterpolar"
           }
          ],
          "scatterpolargl": [
           {
            "marker": {
             "colorbar": {
              "outlinewidth": 0,
              "ticks": ""
             }
            },
            "type": "scatterpolargl"
           }
          ],
          "scatterternary": [
           {
            "marker": {
             "colorbar": {
              "outlinewidth": 0,
              "ticks": ""
             }
            },
            "type": "scatterternary"
           }
          ],
          "surface": [
           {
            "colorbar": {
             "outlinewidth": 0,
             "ticks": ""
            },
            "colorscale": [
             [
              0,
              "#0d0887"
             ],
             [
              0.1111111111111111,
              "#46039f"
             ],
             [
              0.2222222222222222,
              "#7201a8"
             ],
             [
              0.3333333333333333,
              "#9c179e"
             ],
             [
              0.4444444444444444,
              "#bd3786"
             ],
             [
              0.5555555555555556,
              "#d8576b"
             ],
             [
              0.6666666666666666,
              "#ed7953"
             ],
             [
              0.7777777777777778,
              "#fb9f3a"
             ],
             [
              0.8888888888888888,
              "#fdca26"
             ],
             [
              1,
              "#f0f921"
             ]
            ],
            "type": "surface"
           }
          ],
          "table": [
           {
            "cells": {
             "fill": {
              "color": "#EBF0F8"
             },
             "line": {
              "color": "white"
             }
            },
            "header": {
             "fill": {
              "color": "#C8D4E3"
             },
             "line": {
              "color": "white"
             }
            },
            "type": "table"
           }
          ]
         },
         "layout": {
          "annotationdefaults": {
           "arrowcolor": "#2a3f5f",
           "arrowhead": 0,
           "arrowwidth": 1
          },
          "autotypenumbers": "strict",
          "coloraxis": {
           "colorbar": {
            "outlinewidth": 0,
            "ticks": ""
           }
          },
          "colorscale": {
           "diverging": [
            [
             0,
             "#8e0152"
            ],
            [
             0.1,
             "#c51b7d"
            ],
            [
             0.2,
             "#de77ae"
            ],
            [
             0.3,
             "#f1b6da"
            ],
            [
             0.4,
             "#fde0ef"
            ],
            [
             0.5,
             "#f7f7f7"
            ],
            [
             0.6,
             "#e6f5d0"
            ],
            [
             0.7,
             "#b8e186"
            ],
            [
             0.8,
             "#7fbc41"
            ],
            [
             0.9,
             "#4d9221"
            ],
            [
             1,
             "#276419"
            ]
           ],
           "sequential": [
            [
             0,
             "#0d0887"
            ],
            [
             0.1111111111111111,
             "#46039f"
            ],
            [
             0.2222222222222222,
             "#7201a8"
            ],
            [
             0.3333333333333333,
             "#9c179e"
            ],
            [
             0.4444444444444444,
             "#bd3786"
            ],
            [
             0.5555555555555556,
             "#d8576b"
            ],
            [
             0.6666666666666666,
             "#ed7953"
            ],
            [
             0.7777777777777778,
             "#fb9f3a"
            ],
            [
             0.8888888888888888,
             "#fdca26"
            ],
            [
             1,
             "#f0f921"
            ]
           ],
           "sequentialminus": [
            [
             0,
             "#0d0887"
            ],
            [
             0.1111111111111111,
             "#46039f"
            ],
            [
             0.2222222222222222,
             "#7201a8"
            ],
            [
             0.3333333333333333,
             "#9c179e"
            ],
            [
             0.4444444444444444,
             "#bd3786"
            ],
            [
             0.5555555555555556,
             "#d8576b"
            ],
            [
             0.6666666666666666,
             "#ed7953"
            ],
            [
             0.7777777777777778,
             "#fb9f3a"
            ],
            [
             0.8888888888888888,
             "#fdca26"
            ],
            [
             1,
             "#f0f921"
            ]
           ]
          },
          "colorway": [
           "#636efa",
           "#EF553B",
           "#00cc96",
           "#ab63fa",
           "#FFA15A",
           "#19d3f3",
           "#FF6692",
           "#B6E880",
           "#FF97FF",
           "#FECB52"
          ],
          "font": {
           "color": "#2a3f5f"
          },
          "geo": {
           "bgcolor": "white",
           "lakecolor": "white",
           "landcolor": "#E5ECF6",
           "showlakes": true,
           "showland": true,
           "subunitcolor": "white"
          },
          "hoverlabel": {
           "align": "left"
          },
          "hovermode": "closest",
          "mapbox": {
           "style": "light"
          },
          "paper_bgcolor": "white",
          "plot_bgcolor": "#E5ECF6",
          "polar": {
           "angularaxis": {
            "gridcolor": "white",
            "linecolor": "white",
            "ticks": ""
           },
           "bgcolor": "#E5ECF6",
           "radialaxis": {
            "gridcolor": "white",
            "linecolor": "white",
            "ticks": ""
           }
          },
          "scene": {
           "xaxis": {
            "backgroundcolor": "#E5ECF6",
            "gridcolor": "white",
            "gridwidth": 2,
            "linecolor": "white",
            "showbackground": true,
            "ticks": "",
            "zerolinecolor": "white"
           },
           "yaxis": {
            "backgroundcolor": "#E5ECF6",
            "gridcolor": "white",
            "gridwidth": 2,
            "linecolor": "white",
            "showbackground": true,
            "ticks": "",
            "zerolinecolor": "white"
           },
           "zaxis": {
            "backgroundcolor": "#E5ECF6",
            "gridcolor": "white",
            "gridwidth": 2,
            "linecolor": "white",
            "showbackground": true,
            "ticks": "",
            "zerolinecolor": "white"
           }
          },
          "shapedefaults": {
           "line": {
            "color": "#2a3f5f"
           }
          },
          "ternary": {
           "aaxis": {
            "gridcolor": "white",
            "linecolor": "white",
            "ticks": ""
           },
           "baxis": {
            "gridcolor": "white",
            "linecolor": "white",
            "ticks": ""
           },
           "bgcolor": "#E5ECF6",
           "caxis": {
            "gridcolor": "white",
            "linecolor": "white",
            "ticks": ""
           }
          },
          "title": {
           "x": 0.05
          },
          "xaxis": {
           "automargin": true,
           "gridcolor": "white",
           "linecolor": "white",
           "ticks": "",
           "title": {
            "standoff": 15
           },
           "zerolinecolor": "white",
           "zerolinewidth": 2
          },
          "yaxis": {
           "automargin": true,
           "gridcolor": "white",
           "linecolor": "white",
           "ticks": "",
           "title": {
            "standoff": 15
           },
           "zerolinecolor": "white",
           "zerolinewidth": 2
          }
         }
        },
        "xaxis": {
         "anchor": "y",
         "domain": [
          0,
          1
         ]
        },
        "yaxis": {
         "anchor": "x",
         "domain": [
          0,
          1
         ]
        }
       }
      }
     },
     "metadata": {},
     "output_type": "display_data"
    }
   ],
   "source": [
    "# Create a figure\n",
    "fig = px.line()\n",
    "\n",
    "# Add traces to the figure\n",
    "#fig.add_trace(px.line(x=data_total['ds'], y=data_total['y']).data[0])\n",
    "fig.add_trace(px.line(x=future_dates, y=future_predictions).data[0])\n",
    "\n",
    "# Show the figure\n",
    "fig.show()"
   ]
  },
  {
   "cell_type": "code",
   "execution_count": null,
   "metadata": {},
   "outputs": [],
   "source": []
  }
 ],
 "metadata": {
  "kernelspec": {
   "display_name": "Python 3",
   "language": "python",
   "name": "python3"
  },
  "language_info": {
   "codemirror_mode": {
    "name": "ipython",
    "version": 3
   },
   "file_extension": ".py",
   "mimetype": "text/x-python",
   "name": "python",
   "nbconvert_exporter": "python",
   "pygments_lexer": "ipython3",
   "version": "3.11.4"
  }
 },
 "nbformat": 4,
 "nbformat_minor": 2
}
